{
 "cells": [
  {
   "cell_type": "code",
   "execution_count": 1,
   "id": "2a9cb966",
   "metadata": {},
   "outputs": [],
   "source": [
    "import os"
   ]
  },
  {
   "cell_type": "code",
   "execution_count": 2,
   "id": "f6a47181",
   "metadata": {},
   "outputs": [
    {
     "data": {
      "text/plain": [
       "'d:\\\\UTD\\\\Academics\\\\Kidney-Disease-Classification-Project\\\\research'"
      ]
     },
     "execution_count": 2,
     "metadata": {},
     "output_type": "execute_result"
    }
   ],
   "source": [
    "%pwd"
   ]
  },
  {
   "cell_type": "code",
   "execution_count": 3,
   "id": "deaeb5db",
   "metadata": {},
   "outputs": [],
   "source": [
    "os.chdir(\"../\")"
   ]
  },
  {
   "cell_type": "code",
   "execution_count": 4,
   "id": "d1795caf",
   "metadata": {},
   "outputs": [
    {
     "data": {
      "text/plain": [
       "'d:\\\\UTD\\\\Academics\\\\Kidney-Disease-Classification-Project'"
      ]
     },
     "execution_count": 4,
     "metadata": {},
     "output_type": "execute_result"
    }
   ],
   "source": [
    "%pwd"
   ]
  },
  {
   "cell_type": "code",
   "execution_count": 6,
   "id": "62aa10b8",
   "metadata": {},
   "outputs": [
    {
     "name": "stdout",
     "output_type": "stream",
     "text": [
      "Defaulting to user installation because normal site-packages is not writeable\n",
      "Requirement already satisfied: dagshub in c:\\users\\samad mehndi\\appdata\\roaming\\python\\python312\\site-packages (0.5.10)\n",
      "Requirement already satisfied: mlflow in c:\\users\\samad mehndi\\appdata\\roaming\\python\\python312\\site-packages (2.22.0)\n",
      "Requirement already satisfied: PyYAML>=5 in c:\\users\\samad mehndi\\appdata\\roaming\\python\\python312\\site-packages (from dagshub) (6.0.1)\n",
      "Requirement already satisfied: appdirs>=1.4.4 in c:\\anaconda\\lib\\site-packages (from dagshub) (1.4.4)\n",
      "Requirement already satisfied: click>=8.0.4 in c:\\users\\samad mehndi\\appdata\\roaming\\python\\python312\\site-packages (from dagshub) (8.1.8)\n",
      "Requirement already satisfied: httpx>=0.23.0 in c:\\anaconda\\lib\\site-packages (from dagshub) (0.27.0)\n",
      "Requirement already satisfied: GitPython>=3.1.29 in c:\\anaconda\\lib\\site-packages (from dagshub) (3.1.43)\n",
      "Requirement already satisfied: rich>=13.1.0 in c:\\users\\samad mehndi\\appdata\\roaming\\python\\python312\\site-packages (from dagshub) (13.9.4)\n",
      "Requirement already satisfied: dacite~=1.6.0 in c:\\users\\samad mehndi\\appdata\\roaming\\python\\python312\\site-packages (from dagshub) (1.6.0)\n",
      "Requirement already satisfied: tenacity>=8.2.2 in c:\\users\\samad mehndi\\appdata\\roaming\\python\\python312\\site-packages (from dagshub) (9.0.0)\n",
      "Requirement already satisfied: gql[requests] in c:\\users\\samad mehndi\\appdata\\roaming\\python\\python312\\site-packages (from dagshub) (3.5.3)\n",
      "Requirement already satisfied: dataclasses-json in c:\\users\\samad mehndi\\appdata\\roaming\\python\\python312\\site-packages (from dagshub) (0.6.7)\n",
      "Requirement already satisfied: pandas in c:\\users\\samad mehndi\\appdata\\roaming\\python\\python312\\site-packages (from dagshub) (2.2.3)\n",
      "Requirement already satisfied: treelib>=1.6.4 in c:\\users\\samad mehndi\\appdata\\roaming\\python\\python312\\site-packages (from dagshub) (1.7.1)\n",
      "Requirement already satisfied: pathvalidate>=3.0.0 in c:\\users\\samad mehndi\\appdata\\roaming\\python\\python312\\site-packages (from dagshub) (3.2.3)\n",
      "Requirement already satisfied: python-dateutil in c:\\users\\samad mehndi\\appdata\\roaming\\python\\python312\\site-packages (from dagshub) (2.9.0.post0)\n",
      "Requirement already satisfied: boto3 in c:\\users\\samad mehndi\\appdata\\roaming\\python\\python312\\site-packages (from dagshub) (1.38.26)\n",
      "Requirement already satisfied: semver in c:\\anaconda\\lib\\site-packages (from dagshub) (3.0.2)\n",
      "Requirement already satisfied: dagshub-annotation-converter>=0.1.5 in c:\\users\\samad mehndi\\appdata\\roaming\\python\\python312\\site-packages (from dagshub) (0.1.9)\n",
      "Requirement already satisfied: mlflow-skinny==2.22.0 in c:\\users\\samad mehndi\\appdata\\roaming\\python\\python312\\site-packages (from mlflow) (2.22.0)\n",
      "Requirement already satisfied: Flask<4 in c:\\anaconda\\lib\\site-packages (from mlflow) (3.0.3)\n",
      "Requirement already satisfied: Jinja2<4,>=3.0 in c:\\users\\samad mehndi\\appdata\\roaming\\python\\python312\\site-packages (from mlflow) (3.1.2)\n",
      "Requirement already satisfied: alembic!=1.10.0,<2 in c:\\anaconda\\lib\\site-packages (from mlflow) (1.13.3)\n",
      "Requirement already satisfied: docker<8,>=4.0.0 in c:\\users\\samad mehndi\\appdata\\roaming\\python\\python312\\site-packages (from mlflow) (7.1.0)\n",
      "Requirement already satisfied: graphene<4 in c:\\users\\samad mehndi\\appdata\\roaming\\python\\python312\\site-packages (from mlflow) (3.4.3)\n",
      "Requirement already satisfied: markdown<4,>=3.3 in c:\\users\\samad mehndi\\appdata\\roaming\\python\\python312\\site-packages (from mlflow) (3.7)\n",
      "Requirement already satisfied: matplotlib<4 in c:\\users\\samad mehndi\\appdata\\roaming\\python\\python312\\site-packages (from mlflow) (3.10.0)\n",
      "Requirement already satisfied: numpy<3 in c:\\users\\samad mehndi\\appdata\\roaming\\python\\python312\\site-packages (from mlflow) (1.26.4)\n",
      "Requirement already satisfied: pyarrow<20,>=4.0.0 in c:\\users\\samad mehndi\\appdata\\roaming\\python\\python312\\site-packages (from mlflow) (19.0.1)\n",
      "Requirement already satisfied: scikit-learn<2 in c:\\users\\samad mehndi\\appdata\\roaming\\python\\python312\\site-packages (from mlflow) (1.6.1)\n",
      "Requirement already satisfied: scipy<2 in c:\\users\\samad mehndi\\appdata\\roaming\\python\\python312\\site-packages (from mlflow) (1.13.1)\n",
      "Requirement already satisfied: sqlalchemy<3,>=1.4.0 in c:\\anaconda\\lib\\site-packages (from mlflow) (2.0.34)\n",
      "Requirement already satisfied: waitress<4 in c:\\users\\samad mehndi\\appdata\\roaming\\python\\python312\\site-packages (from mlflow) (3.0.2)\n",
      "Requirement already satisfied: cachetools<6,>=5.0.0 in c:\\anaconda\\lib\\site-packages (from mlflow-skinny==2.22.0->mlflow) (5.3.3)\n",
      "Requirement already satisfied: cloudpickle<4 in c:\\users\\samad mehndi\\appdata\\roaming\\python\\python312\\site-packages (from mlflow-skinny==2.22.0->mlflow) (3.1.1)\n",
      "Requirement already satisfied: databricks-sdk<1,>=0.20.0 in c:\\users\\samad mehndi\\appdata\\roaming\\python\\python312\\site-packages (from mlflow-skinny==2.22.0->mlflow) (0.55.0)\n",
      "Requirement already satisfied: fastapi<1 in c:\\users\\samad mehndi\\appdata\\roaming\\python\\python312\\site-packages (from mlflow-skinny==2.22.0->mlflow) (0.115.12)\n",
      "Requirement already satisfied: importlib_metadata!=4.7.0,<9,>=3.7.0 in c:\\anaconda\\lib\\site-packages (from mlflow-skinny==2.22.0->mlflow) (7.0.1)\n",
      "Requirement already satisfied: opentelemetry-api<3,>=1.9.0 in c:\\users\\samad mehndi\\appdata\\roaming\\python\\python312\\site-packages (from mlflow-skinny==2.22.0->mlflow) (1.33.1)\n",
      "Requirement already satisfied: opentelemetry-sdk<3,>=1.9.0 in c:\\users\\samad mehndi\\appdata\\roaming\\python\\python312\\site-packages (from mlflow-skinny==2.22.0->mlflow) (1.33.1)\n",
      "Requirement already satisfied: packaging<25 in c:\\users\\samad mehndi\\appdata\\roaming\\python\\python312\\site-packages (from mlflow-skinny==2.22.0->mlflow) (24.2)\n",
      "Requirement already satisfied: protobuf<7,>=3.12.0 in c:\\users\\samad mehndi\\appdata\\roaming\\python\\python312\\site-packages (from mlflow-skinny==2.22.0->mlflow) (5.29.3)\n",
      "Requirement already satisfied: pydantic<3,>=1.10.8 in c:\\users\\samad mehndi\\appdata\\roaming\\python\\python312\\site-packages (from mlflow-skinny==2.22.0->mlflow) (2.10.6)\n",
      "Requirement already satisfied: requests<3,>=2.17.3 in c:\\users\\samad mehndi\\appdata\\roaming\\python\\python312\\site-packages (from mlflow-skinny==2.22.0->mlflow) (2.32.3)\n",
      "Requirement already satisfied: sqlparse<1,>=0.4.0 in c:\\users\\samad mehndi\\appdata\\roaming\\python\\python312\\site-packages (from mlflow-skinny==2.22.0->mlflow) (0.5.3)\n",
      "Requirement already satisfied: typing-extensions<5,>=4.0.0 in c:\\users\\samad mehndi\\appdata\\roaming\\python\\python312\\site-packages (from mlflow-skinny==2.22.0->mlflow) (4.12.2)\n",
      "Requirement already satisfied: uvicorn<1 in c:\\users\\samad mehndi\\appdata\\roaming\\python\\python312\\site-packages (from mlflow-skinny==2.22.0->mlflow) (0.34.2)\n",
      "Requirement already satisfied: Mako in c:\\anaconda\\lib\\site-packages (from alembic!=1.10.0,<2->mlflow) (1.2.3)\n",
      "Requirement already satisfied: colorama in c:\\users\\samad mehndi\\appdata\\roaming\\python\\python312\\site-packages (from click>=8.0.4->dagshub) (0.4.6)\n",
      "Requirement already satisfied: google-auth~=2.0 in c:\\users\\samad mehndi\\appdata\\roaming\\python\\python312\\site-packages (from databricks-sdk<1,>=0.20.0->mlflow-skinny==2.22.0->mlflow) (2.40.2)\n",
      "Requirement already satisfied: pywin32>=304 in c:\\users\\samad mehndi\\appdata\\roaming\\python\\python312\\site-packages (from docker<8,>=4.0.0->mlflow) (308)\n",
      "Requirement already satisfied: urllib3>=1.26.0 in c:\\users\\samad mehndi\\appdata\\roaming\\python\\python312\\site-packages (from docker<8,>=4.0.0->mlflow) (2.1.0)\n",
      "Requirement already satisfied: starlette<0.47.0,>=0.40.0 in c:\\users\\samad mehndi\\appdata\\roaming\\python\\python312\\site-packages (from fastapi<1->mlflow-skinny==2.22.0->mlflow) (0.46.2)\n",
      "Requirement already satisfied: Werkzeug>=3.0.0 in c:\\users\\samad mehndi\\appdata\\roaming\\python\\python312\\site-packages (from Flask<4->mlflow) (3.1.3)\n",
      "Requirement already satisfied: itsdangerous>=2.1.2 in c:\\anaconda\\lib\\site-packages (from Flask<4->mlflow) (2.2.0)\n",
      "Requirement already satisfied: blinker>=1.6.2 in c:\\anaconda\\lib\\site-packages (from Flask<4->mlflow) (1.6.2)\n",
      "Requirement already satisfied: gitdb<5,>=4.0.1 in c:\\anaconda\\lib\\site-packages (from GitPython>=3.1.29->dagshub) (4.0.7)\n",
      "Requirement already satisfied: smmap<5,>=3.0.1 in c:\\anaconda\\lib\\site-packages (from gitdb<5,>=4.0.1->GitPython>=3.1.29->dagshub) (4.0.0)\n",
      "Requirement already satisfied: pyasn1-modules>=0.2.1 in c:\\anaconda\\lib\\site-packages (from google-auth~=2.0->databricks-sdk<1,>=0.20.0->mlflow-skinny==2.22.0->mlflow) (0.2.8)\n",
      "Requirement already satisfied: rsa<5,>=3.1.4 in c:\\users\\samad mehndi\\appdata\\roaming\\python\\python312\\site-packages (from google-auth~=2.0->databricks-sdk<1,>=0.20.0->mlflow-skinny==2.22.0->mlflow) (4.9.1)\n",
      "Requirement already satisfied: graphql-core<3.3,>=3.1 in c:\\users\\samad mehndi\\appdata\\roaming\\python\\python312\\site-packages (from graphene<4->mlflow) (3.2.6)\n",
      "Requirement already satisfied: graphql-relay<3.3,>=3.1 in c:\\users\\samad mehndi\\appdata\\roaming\\python\\python312\\site-packages (from graphene<4->mlflow) (3.2.0)\n",
      "Requirement already satisfied: zipp>=0.5 in c:\\anaconda\\lib\\site-packages (from importlib_metadata!=4.7.0,<9,>=3.7.0->mlflow-skinny==2.22.0->mlflow) (3.17.0)\n",
      "Requirement already satisfied: MarkupSafe>=2.0 in c:\\users\\samad mehndi\\appdata\\roaming\\python\\python312\\site-packages (from Jinja2<4,>=3.0->mlflow) (2.1.3)\n",
      "Requirement already satisfied: contourpy>=1.0.1 in c:\\users\\samad mehndi\\appdata\\roaming\\python\\python312\\site-packages (from matplotlib<4->mlflow) (1.3.1)\n",
      "Requirement already satisfied: cycler>=0.10 in c:\\users\\samad mehndi\\appdata\\roaming\\python\\python312\\site-packages (from matplotlib<4->mlflow) (0.12.1)\n",
      "Requirement already satisfied: fonttools>=4.22.0 in c:\\users\\samad mehndi\\appdata\\roaming\\python\\python312\\site-packages (from matplotlib<4->mlflow) (4.55.3)\n",
      "Requirement already satisfied: kiwisolver>=1.3.1 in c:\\users\\samad mehndi\\appdata\\roaming\\python\\python312\\site-packages (from matplotlib<4->mlflow) (1.4.8)\n",
      "Requirement already satisfied: pillow>=8 in c:\\users\\samad mehndi\\appdata\\roaming\\python\\python312\\site-packages (from matplotlib<4->mlflow) (11.0.0)\n",
      "Requirement already satisfied: pyparsing>=2.3.1 in c:\\users\\samad mehndi\\appdata\\roaming\\python\\python312\\site-packages (from matplotlib<4->mlflow) (3.2.0)\n",
      "Requirement already satisfied: deprecated>=1.2.6 in c:\\users\\samad mehndi\\appdata\\roaming\\python\\python312\\site-packages (from opentelemetry-api<3,>=1.9.0->mlflow-skinny==2.22.0->mlflow) (1.2.18)\n",
      "Requirement already satisfied: opentelemetry-semantic-conventions==0.54b1 in c:\\users\\samad mehndi\\appdata\\roaming\\python\\python312\\site-packages (from opentelemetry-sdk<3,>=1.9.0->mlflow-skinny==2.22.0->mlflow) (0.54b1)\n",
      "Requirement already satisfied: pytz>=2020.1 in c:\\users\\samad mehndi\\appdata\\roaming\\python\\python312\\site-packages (from pandas->dagshub) (2024.2)\n",
      "Requirement already satisfied: tzdata>=2022.7 in c:\\users\\samad mehndi\\appdata\\roaming\\python\\python312\\site-packages (from pandas->dagshub) (2024.2)\n",
      "Requirement already satisfied: annotated-types>=0.6.0 in c:\\users\\samad mehndi\\appdata\\roaming\\python\\python312\\site-packages (from pydantic<3,>=1.10.8->mlflow-skinny==2.22.0->mlflow) (0.7.0)\n",
      "Requirement already satisfied: pydantic-core==2.27.2 in c:\\users\\samad mehndi\\appdata\\roaming\\python\\python312\\site-packages (from pydantic<3,>=1.10.8->mlflow-skinny==2.22.0->mlflow) (2.27.2)\n",
      "Requirement already satisfied: six>=1.5 in c:\\users\\samad mehndi\\appdata\\roaming\\python\\python312\\site-packages (from python-dateutil->dagshub) (1.17.0)\n",
      "Requirement already satisfied: charset-normalizer<4,>=2 in c:\\users\\samad mehndi\\appdata\\roaming\\python\\python312\\site-packages (from requests<3,>=2.17.3->mlflow-skinny==2.22.0->mlflow) (3.3.2)\n",
      "Requirement already satisfied: idna<4,>=2.5 in c:\\users\\samad mehndi\\appdata\\roaming\\python\\python312\\site-packages (from requests<3,>=2.17.3->mlflow-skinny==2.22.0->mlflow) (3.6)\n",
      "Requirement already satisfied: certifi>=2017.4.17 in c:\\users\\samad mehndi\\appdata\\roaming\\python\\python312\\site-packages (from requests<3,>=2.17.3->mlflow-skinny==2.22.0->mlflow) (2023.11.17)\n",
      "Requirement already satisfied: pyasn1>=0.1.3 in c:\\anaconda\\lib\\site-packages (from rsa<5,>=3.1.4->google-auth~=2.0->databricks-sdk<1,>=0.20.0->mlflow-skinny==2.22.0->mlflow) (0.4.8)\n",
      "Requirement already satisfied: joblib>=1.2.0 in c:\\users\\samad mehndi\\appdata\\roaming\\python\\python312\\site-packages (from scikit-learn<2->mlflow) (1.4.2)\n",
      "Requirement already satisfied: threadpoolctl>=3.1.0 in c:\\users\\samad mehndi\\appdata\\roaming\\python\\python312\\site-packages (from scikit-learn<2->mlflow) (3.5.0)\n",
      "Requirement already satisfied: greenlet!=0.4.17 in c:\\anaconda\\lib\\site-packages (from sqlalchemy<3,>=1.4.0->mlflow) (3.0.1)\n",
      "Requirement already satisfied: anyio<5,>=3.6.2 in c:\\users\\samad mehndi\\appdata\\roaming\\python\\python312\\site-packages (from starlette<0.47.0,>=0.40.0->fastapi<1->mlflow-skinny==2.22.0->mlflow) (4.1.0)\n",
      "Requirement already satisfied: sniffio>=1.1 in c:\\users\\samad mehndi\\appdata\\roaming\\python\\python312\\site-packages (from anyio<5,>=3.6.2->starlette<0.47.0,>=0.40.0->fastapi<1->mlflow-skinny==2.22.0->mlflow) (1.3.0)\n",
      "Requirement already satisfied: h11>=0.8 in c:\\users\\samad mehndi\\appdata\\roaming\\python\\python312\\site-packages (from uvicorn<1->mlflow-skinny==2.22.0->mlflow) (0.14.0)\n",
      "Requirement already satisfied: lxml in c:\\users\\samad mehndi\\appdata\\roaming\\python\\python312\\site-packages (from dagshub-annotation-converter>=0.1.5->dagshub) (5.3.0)\n",
      "Requirement already satisfied: wrapt<2,>=1.10 in c:\\users\\samad mehndi\\appdata\\roaming\\python\\python312\\site-packages (from deprecated>=1.2.6->opentelemetry-api<3,>=1.9.0->mlflow-skinny==2.22.0->mlflow) (1.17.2)\n",
      "Requirement already satisfied: httpcore==1.* in c:\\anaconda\\lib\\site-packages (from httpx>=0.23.0->dagshub) (1.0.2)\n",
      "Requirement already satisfied: markdown-it-py>=2.2.0 in c:\\users\\samad mehndi\\appdata\\roaming\\python\\python312\\site-packages (from rich>=13.1.0->dagshub) (3.0.0)\n",
      "Requirement already satisfied: pygments<3.0.0,>=2.13.0 in c:\\users\\samad mehndi\\appdata\\roaming\\python\\python312\\site-packages (from rich>=13.1.0->dagshub) (2.18.0)\n",
      "Requirement already satisfied: mdurl~=0.1 in c:\\users\\samad mehndi\\appdata\\roaming\\python\\python312\\site-packages (from markdown-it-py>=2.2.0->rich>=13.1.0->dagshub) (0.1.2)\n",
      "Requirement already satisfied: botocore<1.39.0,>=1.38.26 in c:\\users\\samad mehndi\\appdata\\roaming\\python\\python312\\site-packages (from boto3->dagshub) (1.38.26)\n",
      "Requirement already satisfied: jmespath<2.0.0,>=0.7.1 in c:\\anaconda\\lib\\site-packages (from boto3->dagshub) (1.0.1)\n",
      "Requirement already satisfied: s3transfer<0.14.0,>=0.13.0 in c:\\users\\samad mehndi\\appdata\\roaming\\python\\python312\\site-packages (from boto3->dagshub) (0.13.0)\n",
      "Requirement already satisfied: marshmallow<4.0.0,>=3.18.0 in c:\\users\\samad mehndi\\appdata\\roaming\\python\\python312\\site-packages (from dataclasses-json->dagshub) (3.26.1)\n",
      "Requirement already satisfied: typing-inspect<1,>=0.4.0 in c:\\users\\samad mehndi\\appdata\\roaming\\python\\python312\\site-packages (from dataclasses-json->dagshub) (0.9.0)\n",
      "Requirement already satisfied: mypy-extensions>=0.3.0 in c:\\anaconda\\lib\\site-packages (from typing-inspect<1,>=0.4.0->dataclasses-json->dagshub) (1.0.0)\n",
      "Requirement already satisfied: yarl<2.0,>=1.6 in c:\\users\\samad mehndi\\appdata\\roaming\\python\\python312\\site-packages (from gql[requests]->dagshub) (1.20.0)\n",
      "Requirement already satisfied: backoff<3.0,>=1.11.1 in c:\\users\\samad mehndi\\appdata\\roaming\\python\\python312\\site-packages (from gql[requests]->dagshub) (2.2.1)\n",
      "Requirement already satisfied: requests-toolbelt<2,>=1.0.0 in c:\\anaconda\\lib\\site-packages (from gql[requests]->dagshub) (1.0.0)\n",
      "Requirement already satisfied: multidict>=4.0 in c:\\users\\samad mehndi\\appdata\\roaming\\python\\python312\\site-packages (from yarl<2.0,>=1.6->gql[requests]->dagshub) (6.4.3)\n",
      "Requirement already satisfied: propcache>=0.2.1 in c:\\users\\samad mehndi\\appdata\\roaming\\python\\python312\\site-packages (from yarl<2.0,>=1.6->gql[requests]->dagshub) (0.3.1)\n",
      "Note: you may need to restart the kernel to use updated packages.\n"
     ]
    },
    {
     "data": {
      "text/html": [
       "<pre style=\"white-space:pre;overflow-x:auto;line-height:normal;font-family:Menlo,'DejaVu Sans Mono',consolas,'Courier New',monospace\">Initialized MLflow to track repo <span style=\"color: #008000; text-decoration-color: #008000\">\"samad-mehndi/Kidney-Disease-Classification-Project\"</span>\n",
       "</pre>\n"
      ],
      "text/plain": [
       "Initialized MLflow to track repo \u001b[32m\"samad-mehndi/Kidney-Disease-Classification-Project\"\u001b[0m\n"
      ]
     },
     "metadata": {},
     "output_type": "display_data"
    },
    {
     "data": {
      "text/html": [
       "<pre style=\"white-space:pre;overflow-x:auto;line-height:normal;font-family:Menlo,'DejaVu Sans Mono',consolas,'Courier New',monospace\">Repository samad-mehndi/Kidney-Disease-Classification-Project initialized!\n",
       "</pre>\n"
      ],
      "text/plain": [
       "Repository samad-mehndi/Kidney-Disease-Classification-Project initialized!\n"
      ]
     },
     "metadata": {},
     "output_type": "display_data"
    },
    {
     "name": "stdout",
     "output_type": "stream",
     "text": [
      "🏃 View run tasteful-trout-398 at: https://dagshub.com/samad-mehndi/Kidney-Disease-Classification-Project.mlflow/#/experiments/0/runs/e10a096a262c407c86da058cbfb61f4f\n",
      "🧪 View experiment at: https://dagshub.com/samad-mehndi/Kidney-Disease-Classification-Project.mlflow/#/experiments/0\n"
     ]
    }
   ],
   "source": [
    "%pip install dagshub mlflow\n",
    "\n",
    "import dagshub\n",
    "dagshub.init(repo_owner='samad-mehndi', repo_name='Kidney-Disease-Classification-Project', mlflow=True)\n",
    "\n",
    "import mlflow\n",
    "with mlflow.start_run():\n",
    "  mlflow.log_param('parameter name', 'value')\n",
    "  mlflow.log_metric('metric name', 1)"
   ]
  },
  {
   "cell_type": "code",
   "execution_count": 7,
   "id": "93ecb2c6",
   "metadata": {},
   "outputs": [],
   "source": [
    "os.environ[\"MLFLOW_TRACKING_URI\"]=\"https://dagshub.com/samad-mehndi/Kidney-Disease-Classification-Project.mlflow\"\n",
    "os.environ[\"MLFLOW_TRACKING_USERNAME\"]=\"samad-mehndi\""
   ]
  },
  {
   "cell_type": "code",
   "execution_count": 8,
   "id": "130637e8",
   "metadata": {},
   "outputs": [],
   "source": [
    "\n",
    "import tensorflow as tf"
   ]
  },
  {
   "cell_type": "code",
   "execution_count": 9,
   "id": "646816dd",
   "metadata": {},
   "outputs": [
    {
     "name": "stderr",
     "output_type": "stream",
     "text": [
      "WARNING:absl:Compiled the loaded model, but the compiled metrics have yet to be built. `model.compile_metrics` will be empty until you train or evaluate the model.\n"
     ]
    }
   ],
   "source": [
    "model = tf.keras.models.load_model(\"artifacts/training/model.h5\")"
   ]
  },
  {
   "cell_type": "code",
   "execution_count": 10,
   "id": "f0002dfb",
   "metadata": {},
   "outputs": [],
   "source": [
    "from dataclasses import dataclass\n",
    "from pathlib import Path\n",
    "\n",
    "@dataclass(frozen=True)\n",
    "class EvaluationConfig:\n",
    "    path_of_model: Path\n",
    "    training_data: Path\n",
    "    all_params: dict\n",
    "    mlflow_uri: str\n",
    "    params_image_size: list\n",
    "    params_batch_size: int"
   ]
  },
  {
   "cell_type": "code",
   "execution_count": 11,
   "id": "9a2c47b5",
   "metadata": {},
   "outputs": [],
   "source": [
    "\n",
    "import sys\n",
    "import os\n",
    "\n",
    "# Add the 'src' directory to the path\n",
    "sys.path.append(os.path.join(os.getcwd(), 'src'))\n",
    "\n",
    "from cnnClassifier.constants import *\n",
    "from cnnClassifier.utils.common import read_yaml, create_directories, save_json"
   ]
  },
  {
   "cell_type": "code",
   "execution_count": null,
   "id": "d8bf3d63",
   "metadata": {},
   "outputs": [],
   "source": [
    "class configurationManager:\n",
    "    def __init__(\n",
    "        self, \n",
    "        config_filepath = CONFIG_FILE_PATH,\n",
    "        params_filepath = PARAMS_FILE_PATH):\n",
    "        self.config = read_yaml(config_filepath)\n",
    "        self.params = read_yaml(params_filepath)\n",
    "        create_directories([self.config.artifacts_root])\n",
    "\n",
    "    \n",
    "    def get_evaluation_config(self) -> EvaluationConfig:\n",
    "        eval_config = EvaluationConfig(\n",
    "            path_of_model=\"artifacts/training/model.h5\",\n",
    "            training_data=\"artifacts/data_ingestion/dataset_ct_scan\",\n",
    "            mlflow_uri=\"https://dagshub.com/samad-mehndi/Kidney-Disease-Classification-Project.mlflow\",\n",
    "            all_params=self.params,\n",
    "            params_image_size=self.params.IMAGE_SIZE,\n",
    "            params_batch_size=self.params.BATCH_SIZE\n",
    "        )\n",
    "        return eval_config"
   ]
  },
  {
   "cell_type": "code",
   "execution_count": 13,
   "id": "97fc8c9e",
   "metadata": {},
   "outputs": [],
   "source": [
    "import tensorflow as tf\n",
    "from pathlib import Path\n",
    "import mlflow\n",
    "import mlflow.keras\n",
    "from urllib.parse import urlparse"
   ]
  },
  {
   "cell_type": "code",
   "execution_count": 14,
   "id": "aae56f7c",
   "metadata": {},
   "outputs": [],
   "source": [
    "class Evaluation:\n",
    "    def __init__(self, config: EvaluationConfig):\n",
    "        self.config = config\n",
    "\n",
    "    \n",
    "    def _valid_generator(self):\n",
    "\n",
    "        datagenerator_kwargs = dict(\n",
    "            rescale = 1./255,\n",
    "            validation_split=0.30\n",
    "        )\n",
    "\n",
    "        dataflow_kwargs = dict(\n",
    "            target_size=self.config.params_image_size[:-1],\n",
    "            batch_size=self.config.params_batch_size,\n",
    "            interpolation=\"bilinear\"\n",
    "        )\n",
    "\n",
    "        valid_datagenerator = tf.keras.preprocessing.image.ImageDataGenerator(\n",
    "            **datagenerator_kwargs\n",
    "        )\n",
    "\n",
    "        self.valid_generator = valid_datagenerator.flow_from_directory(\n",
    "            directory=self.config.training_data,\n",
    "            subset=\"validation\",\n",
    "            shuffle=False,\n",
    "            **dataflow_kwargs\n",
    "        )\n",
    "\n",
    "\n",
    "    @staticmethod\n",
    "    def load_model(path: Path) -> tf.keras.Model:\n",
    "        return tf.keras.models.load_model(path)\n",
    "    \n",
    "\n",
    "    def evaluation(self):\n",
    "        self.model = self.load_model(self.config.path_of_model)\n",
    "        self._valid_generator()\n",
    "        self.score = model.evaluate(self.valid_generator)\n",
    "        self.save_score()\n",
    "\n",
    "    def save_score(self):\n",
    "        scores = {\"loss\": self.score[0], \"accuracy\": self.score[1]}\n",
    "        save_json(path=Path(\"scores.json\"), data=scores)\n",
    "\n",
    "    \n",
    "    def log_into_mlflow(self):\n",
    "        mlflow.set_registry_uri(self.config.mlflow_uri)\n",
    "        tracking_url_type_store = urlparse(mlflow.get_tracking_uri()).scheme\n",
    "        \n",
    "        with mlflow.start_run():\n",
    "            mlflow.log_params(self.config.all_params)\n",
    "            mlflow.log_metrics(\n",
    "                {\"loss\": self.score[0], \"accuracy\": self.score[1]}\n",
    "            )\n",
    "            # Model registry does not work with file store\n",
    "            if tracking_url_type_store != \"file\":\n",
    "\n",
    "                # Register the model\n",
    "                mlflow.keras.log_model(self.model, \"model\", registered_model_name=\"VGG16Model\")\n",
    "            else:\n",
    "                mlflow.keras.log_model(self.model, \"model\")"
   ]
  },
  {
   "cell_type": "code",
   "execution_count": 15,
   "id": "428e1012",
   "metadata": {},
   "outputs": [
    {
     "name": "stderr",
     "output_type": "stream",
     "text": [
      "WARNING:absl:Compiled the loaded model, but the compiled metrics have yet to be built. `model.compile_metrics` will be empty until you train or evaluate the model.\n"
     ]
    },
    {
     "name": "stdout",
     "output_type": "stream",
     "text": [
      "Found 2207 images belonging to 2 classes.\n"
     ]
    },
    {
     "name": "stderr",
     "output_type": "stream",
     "text": [
      "C:\\Users\\SAMAD MEHNDI\\AppData\\Roaming\\Python\\Python312\\site-packages\\keras\\src\\trainers\\data_adapters\\py_dataset_adapter.py:121: UserWarning: Your `PyDataset` class should call `super().__init__(**kwargs)` in its constructor. `**kwargs` can include `workers`, `use_multiprocessing`, `max_queue_size`. Do not pass these arguments to `fit()`, as they will be ignored.\n",
      "  self._warn_if_super_not_called()\n"
     ]
    },
    {
     "name": "stdout",
     "output_type": "stream",
     "text": [
      "\u001b[1m138/138\u001b[0m \u001b[32m━━━━━━━━━━━━━━━━━━━━\u001b[0m\u001b[37m\u001b[0m \u001b[1m157s\u001b[0m 1s/step - accuracy: 0.9174 - loss: 0.1921\n"
     ]
    },
    {
     "name": "stderr",
     "output_type": "stream",
     "text": [
      "2025/05/29 16:10:45 WARNING mlflow.keras.save: You are saving a Keras model without specifying model signature.\n",
      "2025/05/29 16:10:56 WARNING mlflow.models.model: Model logged without a signature and input example. Please set `input_example` parameter when logging the model to auto infer the model signature.\n",
      "Registered model 'VGG16Model' already exists. Creating a new version of this model...\n",
      "2025/05/29 16:11:17 INFO mlflow.store.model_registry.abstract_store: Waiting up to 300 seconds for model version to finish creation. Model name: VGG16Model, version 2\n",
      "Created version '2' of model 'VGG16Model'.\n"
     ]
    },
    {
     "name": "stdout",
     "output_type": "stream",
     "text": [
      "🏃 View run honorable-fawn-649 at: https://dagshub.com/samad-mehndi/Kidney-Disease-Classification-Project.mlflow/#/experiments/0/runs/46f2510d2b6e46209d29ea5d2d91dc06\n",
      "🧪 View experiment at: https://dagshub.com/samad-mehndi/Kidney-Disease-Classification-Project.mlflow/#/experiments/0\n"
     ]
    }
   ],
   "source": [
    "\n",
    "try:\n",
    "    config = configurationManager()\n",
    "    eval_config = config.get_evaluation_config()\n",
    "    evaluation = Evaluation(eval_config)\n",
    "    evaluation.evaluation()\n",
    "    evaluation.log_into_mlflow()\n",
    "\n",
    "except Exception as e:\n",
    "   raise e"
   ]
  },
  {
   "cell_type": "code",
   "execution_count": null,
   "id": "edba6d1f",
   "metadata": {},
   "outputs": [],
   "source": []
  }
 ],
 "metadata": {
  "kernelspec": {
   "display_name": "base",
   "language": "python",
   "name": "python3"
  },
  "language_info": {
   "codemirror_mode": {
    "name": "ipython",
    "version": 3
   },
   "file_extension": ".py",
   "mimetype": "text/x-python",
   "name": "python",
   "nbconvert_exporter": "python",
   "pygments_lexer": "ipython3",
   "version": "3.12.7"
  }
 },
 "nbformat": 4,
 "nbformat_minor": 5
}
